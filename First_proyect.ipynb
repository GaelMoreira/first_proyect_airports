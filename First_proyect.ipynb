{
 "cells": [
  {
   "cell_type": "markdown",
   "id": "c3de507c-c376-4011-bb0b-69652b484df1",
   "metadata": {},
   "source": [
    "### WELCOME TO APIS"
   ]
  },
  {
   "cell_type": "markdown",
   "id": "30f0f1f3-27f0-4860-be3f-a97f72956ad9",
   "metadata": {},
   "source": [
    "![legtsgo](https://i.giphy.com/media/v1.Y2lkPTc5MGI3NjExNTRrMHAwMDlvajYzcW91NHVhMGRteTNiY3I4ZGp0enQ1a3l0YTFxdiZlcD12MV9pbnRlcm5hbF9naWZfYnlfaWQmY3Q9Zw/3oKIPa2TdahY8LAAxy/giphy.gif)"
   ]
  },
  {
   "cell_type": "code",
   "execution_count": null,
   "id": "6e8e8b95-0314-46bb-b2e8-76a79148e63f",
   "metadata": {},
   "outputs": [],
   "source": []
  },
  {
   "cell_type": "markdown",
   "id": "d8cd7816-0a62-40cf-be1c-84bec0d515a4",
   "metadata": {},
   "source": [
    "### Lo primero que hacemos es llamar a la api con el codigo que nos da en Rapi API"
   ]
  },
  {
   "cell_type": "markdown",
   "id": "46c920fc-fa4e-41e8-8921-314672518b0f",
   "metadata": {},
   "source": [
    "import requests\n",
    "\n",
    "url = \"https://ryanair2.p.rapidapi.com/api/v1/getActiveAirports\"\n",
    "\n",
    "headers = {\n",
    "\t\"x-rapidapi-key\": \"xxxxxxxxxxxxxxx\",\n",
    "\t\"x-rapidapi-host\": \"ryanair2.p.rapidapi.com\"\n",
    "}\n",
    "\n",
    "response = requests.get(url, headers=headers)\n",
    "\n",
    "print(response.json())"
   ]
  },
  {
   "cell_type": "code",
   "execution_count": null,
   "id": "d388b943-975a-4b45-a495-e70f3e695087",
   "metadata": {},
   "outputs": [],
   "source": [
    "airports = response.json()"
   ]
  },
  {
   "cell_type": "markdown",
   "id": "84d2cc66-e626-4e90-a760-e45753e3421b",
   "metadata": {},
   "source": [
    "### Vemos que keys nos interesa y nos quedamos con la que queramos"
   ]
  },
  {
   "cell_type": "code",
   "execution_count": null,
   "id": "0259c5d7-d8e3-41ba-955d-b0d7d7213764",
   "metadata": {},
   "outputs": [],
   "source": [
    "airports.keys()"
   ]
  },
  {
   "cell_type": "code",
   "execution_count": null,
   "id": "c9b89582-cca4-4fc5-ac53-479871f260e2",
   "metadata": {},
   "outputs": [],
   "source": [
    "airports= airports['data']"
   ]
  },
  {
   "cell_type": "code",
   "execution_count": null,
   "id": "4330f17b-1162-4dea-95eb-4b4595b0ecda",
   "metadata": {},
   "outputs": [],
   "source": [
    "airports"
   ]
  },
  {
   "cell_type": "markdown",
   "id": "79f33302-88c0-465d-bfc2-efc9c707131b",
   "metadata": {},
   "source": [
    "### Vemos la longitud de airports"
   ]
  },
  {
   "cell_type": "code",
   "execution_count": null,
   "id": "23d0fa4a-629b-43d3-8ec2-afcca43ef8d9",
   "metadata": {},
   "outputs": [],
   "source": [
    "len(airports)"
   ]
  },
  {
   "cell_type": "markdown",
   "id": "af92e7d5-5dc2-4627-8263-3f8e55f139a8",
   "metadata": {},
   "source": [
    "### Cogemos una muestra de airports para ver que contiene cada diccionario"
   ]
  },
  {
   "cell_type": "code",
   "execution_count": null,
   "id": "e8a6a25d-f608-468e-b68e-846976e282cd",
   "metadata": {},
   "outputs": [],
   "source": [
    "airports[0]"
   ]
  },
  {
   "cell_type": "markdown",
   "id": "3e33c389-bebb-4c73-a5c9-a03da058f2ab",
   "metadata": {},
   "source": [
    "### Escogemos lo que mas nos interese de el diccionario"
   ]
  },
  {
   "cell_type": "code",
   "execution_count": null,
   "id": "d6a84043-f16c-4e1f-bc6d-09bc2c39d23d",
   "metadata": {},
   "outputs": [],
   "source": [
    "code, name, city, country, timeZone, coordinates"
   ]
  },
  {
   "cell_type": "markdown",
   "id": "19ff3c46-3be0-44a0-8882-f08ec2ef10bc",
   "metadata": {},
   "source": [
    "### Hacemos listas vacias para lo que nos interesa y le metemos los valores correspondientes"
   ]
  },
  {
   "cell_type": "code",
   "execution_count": null,
   "id": "b0461bec-f682-4a89-b089-81331f7041af",
   "metadata": {},
   "outputs": [],
   "source": [
    "nombres =[]\n",
    "codigos=[]\n",
    "paises=[]\n",
    "ciudades=[]\n",
    "zona_horaria=[]\n",
    "coordenadas=[]\n",
    "\n",
    "for airport in airports:\n",
    "    codigos.append(airport[\"code\"])\n",
    "    nombres.append(airport[\"name\"])\n",
    "    if \"country\" in airport:\n",
    "        paises.append(airport[\"country\"][\"name\"])\n",
    "    else: paises.append(\"NA\")\n",
    "    if \"city\" in airport:\n",
    "        ciudades.append(airport[\"city\"][\"name\"])\n",
    "    else: ciudades.append(\"NA\")\n",
    "    if  \"timeZone\" in airport:\n",
    "        zona_horaria.append(airport[\"timeZone\"])\n",
    "    else: zona_horaria.append(\"NA\")\n",
    "    if \"coordinates\" in airport:\n",
    "        coordenadas.append(airport[\"coordinates\"])\n",
    "    else: coordenadas.append(\"NA\")\n",
    "    \n",
    "        "
   ]
  },
  {
   "cell_type": "markdown",
   "id": "b12ca614-c537-4c91-9154-7edd1b8a84f6",
   "metadata": {},
   "source": [
    "### Creamos el df"
   ]
  },
  {
   "cell_type": "code",
   "execution_count": null,
   "id": "f0219c95-c4e6-4034-9d26-e90d4189d17c",
   "metadata": {},
   "outputs": [],
   "source": [
    "import pandas as pd"
   ]
  },
  {
   "cell_type": "code",
   "execution_count": null,
   "id": "8dec0027-ae15-4812-8d77-365c69aa8e91",
   "metadata": {},
   "outputs": [],
   "source": [
    "airports_df = pd.DataFrame({\"paises\":paises, \"ciudades\":ciudades, \"nombre de aeropuertos\":nombres, \"codigos de aeropuertos\":codigos, \"zona horaria\":zona_horaria, \"coordenadas\":coordenadas})\n",
    "airports_df"
   ]
  },
  {
   "cell_type": "markdown",
   "id": "8348d305-edac-4119-b8d6-00b433f06495",
   "metadata": {},
   "source": [
    "### Lo convertimos en cdv"
   ]
  },
  {
   "cell_type": "code",
   "execution_count": null,
   "id": "3a35f117-5528-4b1e-b02e-b8b5d7edf66b",
   "metadata": {},
   "outputs": [],
   "source": [
    "airports_df.to_csv(\"first_project_airports.csv\", header=True, index=False)"
   ]
  },
  {
   "cell_type": "markdown",
   "id": "b8dacded-4a3d-4cf9-9230-e9c6e42b1b37",
   "metadata": {},
   "source": [
    "# Desde aqui conmenzamos a trabajar con el csv para no gastar llamdas inecesarias y poder toquetar con tranquilidad"
   ]
  },
  {
   "cell_type": "markdown",
   "id": "ddc353d3-9ca7-42fd-8625-d7d99dcf5a41",
   "metadata": {},
   "source": [
    "![legtsgo](https://i.gifer.com/1FA.gif)"
   ]
  },
  {
   "cell_type": "markdown",
   "id": "7501b66f-f720-47eb-a278-9d8cbac40b34",
   "metadata": {},
   "source": [
    "### Importamos el pd y llamamos al csv"
   ]
  },
  {
   "cell_type": "code",
   "execution_count": 2,
   "id": "812944d8-aa83-4bb9-8437-9a7fb0bd93c1",
   "metadata": {},
   "outputs": [],
   "source": [
    "import pandas as pd"
   ]
  },
  {
   "cell_type": "code",
   "execution_count": 3,
   "id": "9a23d062-26a6-4303-8c23-c9eec75ed9d1",
   "metadata": {},
   "outputs": [],
   "source": [
    "airports_df = pd.read_csv(\"first_project_airports.csv\")"
   ]
  },
  {
   "cell_type": "markdown",
   "id": "45f6c4a3-d34a-4cc9-ade1-b8e74ffac093",
   "metadata": {},
   "source": [
    "### Le cambiamos los espacios por barras bajas "
   ]
  },
  {
   "cell_type": "code",
   "execution_count": 5,
   "id": "e424e00a-e7a9-4e40-9173-050b6533d362",
   "metadata": {},
   "outputs": [],
   "source": [
    "airports_df.columns = [columns.lower().replace(\" \", \"_\") for columns in airports_df.columns]"
   ]
  },
  {
   "cell_type": "markdown",
   "id": "30291453-dd73-4797-8fae-02337dfe995d",
   "metadata": {},
   "source": [
    "### Creamos columnas sobre codigos que empiezan por A y otra de continentes"
   ]
  },
  {
   "cell_type": "code",
   "execution_count": 7,
   "id": "56353b1f-fd41-4505-9787-cbd773c73d1c",
   "metadata": {},
   "outputs": [],
   "source": [
    "airports_df[\"codigo_empieza_por_A\"] = airports_df[\"codigos_de_aeropuertos\"].apply(lambda codigo: codigo.startswith(\"A\"))"
   ]
  },
  {
   "cell_type": "code",
   "execution_count": 8,
   "id": "15d79f00-08ff-48bf-a72e-e482b2335c36",
   "metadata": {},
   "outputs": [],
   "source": [
    "airports_df[\"continentes\"] = airports_df[\"zona_horaria\"].apply(lambda continente: continente.split(\"/\")[0])"
   ]
  },
  {
   "cell_type": "code",
   "execution_count": 9,
   "id": "b9eb4b66-9b8b-4e53-a352-4c092bb801ab",
   "metadata": {},
   "outputs": [
    {
     "data": {
      "text/html": [
       "<div>\n",
       "<style scoped>\n",
       "    .dataframe tbody tr th:only-of-type {\n",
       "        vertical-align: middle;\n",
       "    }\n",
       "\n",
       "    .dataframe tbody tr th {\n",
       "        vertical-align: top;\n",
       "    }\n",
       "\n",
       "    .dataframe thead th {\n",
       "        text-align: right;\n",
       "    }\n",
       "</style>\n",
       "<table border=\"1\" class=\"dataframe\">\n",
       "  <thead>\n",
       "    <tr style=\"text-align: right;\">\n",
       "      <th></th>\n",
       "      <th>paises</th>\n",
       "      <th>ciudades</th>\n",
       "      <th>nombre_de_aeropuertos</th>\n",
       "      <th>codigos_de_aeropuertos</th>\n",
       "      <th>zona_horaria</th>\n",
       "      <th>coordenadas</th>\n",
       "      <th>codigo_empieza_por_A</th>\n",
       "      <th>continentes</th>\n",
       "    </tr>\n",
       "  </thead>\n",
       "  <tbody>\n",
       "    <tr>\n",
       "      <th>0</th>\n",
       "      <td>Denmark</td>\n",
       "      <td>Aalborg</td>\n",
       "      <td>Aalborg</td>\n",
       "      <td>AAL</td>\n",
       "      <td>Europe/Copenhagen</td>\n",
       "      <td>{'latitude': 57.0534, 'longitude': 9.5057}</td>\n",
       "      <td>True</td>\n",
       "      <td>Europe</td>\n",
       "    </tr>\n",
       "    <tr>\n",
       "      <th>1</th>\n",
       "      <td>Denmark</td>\n",
       "      <td>Aarhus</td>\n",
       "      <td>Aarhus</td>\n",
       "      <td>AAR</td>\n",
       "      <td>Europe/Copenhagen</td>\n",
       "      <td>{'latitude': 56.3, 'longitude': 10.619}</td>\n",
       "      <td>True</td>\n",
       "      <td>Europe</td>\n",
       "    </tr>\n",
       "    <tr>\n",
       "      <th>2</th>\n",
       "      <td>United Kingdom</td>\n",
       "      <td>Aberdeen</td>\n",
       "      <td>Aberdeen</td>\n",
       "      <td>ABZ</td>\n",
       "      <td>Europe/London</td>\n",
       "      <td>{'latitude': 57.2019, 'longitude': -2.19778}</td>\n",
       "      <td>True</td>\n",
       "      <td>Europe</td>\n",
       "    </tr>\n",
       "    <tr>\n",
       "      <th>3</th>\n",
       "      <td>Spain</td>\n",
       "      <td>Lanzarote</td>\n",
       "      <td>Lanzarote</td>\n",
       "      <td>ACE</td>\n",
       "      <td>Atlantic/Canary</td>\n",
       "      <td>{'latitude': 28.9455, 'longitude': -13.6052}</td>\n",
       "      <td>True</td>\n",
       "      <td>Atlantic</td>\n",
       "    </tr>\n",
       "    <tr>\n",
       "      <th>4</th>\n",
       "      <td>Morocco</td>\n",
       "      <td>Agadir</td>\n",
       "      <td>Agadir</td>\n",
       "      <td>AGA</td>\n",
       "      <td>Africa/Casablanca</td>\n",
       "      <td>{'latitude': 30.325, 'longitude': -9.41307}</td>\n",
       "      <td>True</td>\n",
       "      <td>Africa</td>\n",
       "    </tr>\n",
       "    <tr>\n",
       "      <th>...</th>\n",
       "      <td>...</td>\n",
       "      <td>...</td>\n",
       "      <td>...</td>\n",
       "      <td>...</td>\n",
       "      <td>...</td>\n",
       "      <td>...</td>\n",
       "      <td>...</td>\n",
       "      <td>...</td>\n",
       "    </tr>\n",
       "    <tr>\n",
       "      <th>232</th>\n",
       "      <td>Spain</td>\n",
       "      <td>Jerez</td>\n",
       "      <td>Jerez</td>\n",
       "      <td>XRY</td>\n",
       "      <td>Europe/Madrid</td>\n",
       "      <td>{'latitude': 36.7446, 'longitude': -6.06011}</td>\n",
       "      <td>False</td>\n",
       "      <td>Europe</td>\n",
       "    </tr>\n",
       "    <tr>\n",
       "      <th>233</th>\n",
       "      <td>Croatia</td>\n",
       "      <td>Zadar</td>\n",
       "      <td>Zadar</td>\n",
       "      <td>ZAD</td>\n",
       "      <td>Europe/Zagreb</td>\n",
       "      <td>{'latitude': 44.1083, 'longitude': 15.3467}</td>\n",
       "      <td>False</td>\n",
       "      <td>Europe</td>\n",
       "    </tr>\n",
       "    <tr>\n",
       "      <th>234</th>\n",
       "      <td>Croatia</td>\n",
       "      <td>Zagreb</td>\n",
       "      <td>Zagreb</td>\n",
       "      <td>ZAG</td>\n",
       "      <td>Europe/Zagreb</td>\n",
       "      <td>{'latitude': 45.7431, 'longitude': 16.0689}</td>\n",
       "      <td>False</td>\n",
       "      <td>Europe</td>\n",
       "    </tr>\n",
       "    <tr>\n",
       "      <th>235</th>\n",
       "      <td>Spain</td>\n",
       "      <td>Zaragoza</td>\n",
       "      <td>Zaragoza</td>\n",
       "      <td>ZAZ</td>\n",
       "      <td>Europe/Madrid</td>\n",
       "      <td>{'latitude': 41.6662, 'longitude': -1.04155}</td>\n",
       "      <td>False</td>\n",
       "      <td>Europe</td>\n",
       "    </tr>\n",
       "    <tr>\n",
       "      <th>236</th>\n",
       "      <td>Greece</td>\n",
       "      <td>Zakynthos</td>\n",
       "      <td>Zakynthos</td>\n",
       "      <td>ZTH</td>\n",
       "      <td>Europe/Athens</td>\n",
       "      <td>{'latitude': 37.7509, 'longitude': 20.8843}</td>\n",
       "      <td>False</td>\n",
       "      <td>Europe</td>\n",
       "    </tr>\n",
       "  </tbody>\n",
       "</table>\n",
       "<p>237 rows × 8 columns</p>\n",
       "</div>"
      ],
      "text/plain": [
       "             paises   ciudades nombre_de_aeropuertos codigos_de_aeropuertos  \\\n",
       "0           Denmark    Aalborg               Aalborg                    AAL   \n",
       "1           Denmark     Aarhus                Aarhus                    AAR   \n",
       "2    United Kingdom   Aberdeen              Aberdeen                    ABZ   \n",
       "3             Spain  Lanzarote             Lanzarote                    ACE   \n",
       "4           Morocco     Agadir                Agadir                    AGA   \n",
       "..              ...        ...                   ...                    ...   \n",
       "232           Spain      Jerez                 Jerez                    XRY   \n",
       "233         Croatia      Zadar                 Zadar                    ZAD   \n",
       "234         Croatia     Zagreb                Zagreb                    ZAG   \n",
       "235           Spain   Zaragoza              Zaragoza                    ZAZ   \n",
       "236          Greece  Zakynthos             Zakynthos                    ZTH   \n",
       "\n",
       "          zona_horaria                                   coordenadas  \\\n",
       "0    Europe/Copenhagen    {'latitude': 57.0534, 'longitude': 9.5057}   \n",
       "1    Europe/Copenhagen       {'latitude': 56.3, 'longitude': 10.619}   \n",
       "2        Europe/London  {'latitude': 57.2019, 'longitude': -2.19778}   \n",
       "3      Atlantic/Canary  {'latitude': 28.9455, 'longitude': -13.6052}   \n",
       "4    Africa/Casablanca   {'latitude': 30.325, 'longitude': -9.41307}   \n",
       "..                 ...                                           ...   \n",
       "232      Europe/Madrid  {'latitude': 36.7446, 'longitude': -6.06011}   \n",
       "233      Europe/Zagreb   {'latitude': 44.1083, 'longitude': 15.3467}   \n",
       "234      Europe/Zagreb   {'latitude': 45.7431, 'longitude': 16.0689}   \n",
       "235      Europe/Madrid  {'latitude': 41.6662, 'longitude': -1.04155}   \n",
       "236      Europe/Athens   {'latitude': 37.7509, 'longitude': 20.8843}   \n",
       "\n",
       "     codigo_empieza_por_A continentes  \n",
       "0                    True      Europe  \n",
       "1                    True      Europe  \n",
       "2                    True      Europe  \n",
       "3                    True    Atlantic  \n",
       "4                    True      Africa  \n",
       "..                    ...         ...  \n",
       "232                 False      Europe  \n",
       "233                 False      Europe  \n",
       "234                 False      Europe  \n",
       "235                 False      Europe  \n",
       "236                 False      Europe  \n",
       "\n",
       "[237 rows x 8 columns]"
      ]
     },
     "execution_count": 9,
     "metadata": {},
     "output_type": "execute_result"
    }
   ],
   "source": [
    "airports_df"
   ]
  },
  {
   "cell_type": "markdown",
   "id": "7436cb15-eecc-4cba-8f06-81b2b90f0833",
   "metadata": {},
   "source": [
    "### Hazemos un nunique para asegurarnos que esta todo bien"
   ]
  },
  {
   "cell_type": "code",
   "execution_count": 11,
   "id": "0166697a-e699-46a8-a6db-f5e1f2b6a720",
   "metadata": {},
   "outputs": [
    {
     "data": {
      "text/plain": [
       "paises                     37\n",
       "ciudades                  226\n",
       "nombre_de_aeropuertos     237\n",
       "codigos_de_aeropuertos    237\n",
       "zona_horaria               40\n",
       "coordenadas               237\n",
       "codigo_empieza_por_A        2\n",
       "continentes                 4\n",
       "dtype: int64"
      ]
     },
     "execution_count": 11,
     "metadata": {},
     "output_type": "execute_result"
    }
   ],
   "source": [
    "airports_df.nunique()"
   ]
  },
  {
   "cell_type": "markdown",
   "id": "0aba36ce-e0d5-4b80-bcf9-28628388cce3",
   "metadata": {},
   "source": [
    "### Hacemos una tabla en la que junte los nombres de aeropuertos y los codigos"
   ]
  },
  {
   "cell_type": "code",
   "execution_count": 13,
   "id": "21496d33-37b2-4d5f-9a5a-522adadc368e",
   "metadata": {},
   "outputs": [
    {
     "data": {
      "text/html": [
       "<div>\n",
       "<style scoped>\n",
       "    .dataframe tbody tr th:only-of-type {\n",
       "        vertical-align: middle;\n",
       "    }\n",
       "\n",
       "    .dataframe tbody tr th {\n",
       "        vertical-align: top;\n",
       "    }\n",
       "\n",
       "    .dataframe thead th {\n",
       "        text-align: right;\n",
       "    }\n",
       "</style>\n",
       "<table border=\"1\" class=\"dataframe\">\n",
       "  <thead>\n",
       "    <tr style=\"text-align: right;\">\n",
       "      <th></th>\n",
       "      <th>nombre_de_aeropuertos</th>\n",
       "      <th>codigos_de_aeropuertos</th>\n",
       "    </tr>\n",
       "  </thead>\n",
       "  <tbody>\n",
       "    <tr>\n",
       "      <th>0</th>\n",
       "      <td>Aalborg</td>\n",
       "      <td>AAL</td>\n",
       "    </tr>\n",
       "    <tr>\n",
       "      <th>1</th>\n",
       "      <td>Aarhus</td>\n",
       "      <td>AAR</td>\n",
       "    </tr>\n",
       "    <tr>\n",
       "      <th>2</th>\n",
       "      <td>Aberdeen</td>\n",
       "      <td>ABZ</td>\n",
       "    </tr>\n",
       "    <tr>\n",
       "      <th>3</th>\n",
       "      <td>Lanzarote</td>\n",
       "      <td>ACE</td>\n",
       "    </tr>\n",
       "    <tr>\n",
       "      <th>4</th>\n",
       "      <td>Agadir</td>\n",
       "      <td>AGA</td>\n",
       "    </tr>\n",
       "    <tr>\n",
       "      <th>...</th>\n",
       "      <td>...</td>\n",
       "      <td>...</td>\n",
       "    </tr>\n",
       "    <tr>\n",
       "      <th>232</th>\n",
       "      <td>Jerez</td>\n",
       "      <td>XRY</td>\n",
       "    </tr>\n",
       "    <tr>\n",
       "      <th>233</th>\n",
       "      <td>Zadar</td>\n",
       "      <td>ZAD</td>\n",
       "    </tr>\n",
       "    <tr>\n",
       "      <th>234</th>\n",
       "      <td>Zagreb</td>\n",
       "      <td>ZAG</td>\n",
       "    </tr>\n",
       "    <tr>\n",
       "      <th>235</th>\n",
       "      <td>Zaragoza</td>\n",
       "      <td>ZAZ</td>\n",
       "    </tr>\n",
       "    <tr>\n",
       "      <th>236</th>\n",
       "      <td>Zakynthos</td>\n",
       "      <td>ZTH</td>\n",
       "    </tr>\n",
       "  </tbody>\n",
       "</table>\n",
       "<p>237 rows × 2 columns</p>\n",
       "</div>"
      ],
      "text/plain": [
       "    nombre_de_aeropuertos codigos_de_aeropuertos\n",
       "0                 Aalborg                    AAL\n",
       "1                  Aarhus                    AAR\n",
       "2                Aberdeen                    ABZ\n",
       "3               Lanzarote                    ACE\n",
       "4                  Agadir                    AGA\n",
       "..                    ...                    ...\n",
       "232                 Jerez                    XRY\n",
       "233                 Zadar                    ZAD\n",
       "234                Zagreb                    ZAG\n",
       "235              Zaragoza                    ZAZ\n",
       "236             Zakynthos                    ZTH\n",
       "\n",
       "[237 rows x 2 columns]"
      ]
     },
     "execution_count": 13,
     "metadata": {},
     "output_type": "execute_result"
    }
   ],
   "source": [
    "aeropuertos_codigos_df = airports_df[[\"nombre_de_aeropuertos\",\"codigos_de_aeropuertos\"]]\n",
    "aeropuertos_codigos_df"
   ]
  },
  {
   "cell_type": "markdown",
   "id": "2ca055c7-4424-42de-aca5-f338ad37e90e",
   "metadata": {},
   "source": [
    "### Hacemos una tabla que contenga los continentes y el numero de aeropuertos que tenga"
   ]
  },
  {
   "cell_type": "code",
   "execution_count": 15,
   "id": "abc861d1-4583-4922-9177-6d0a162419bd",
   "metadata": {},
   "outputs": [
    {
     "data": {
      "text/html": [
       "<div>\n",
       "<style scoped>\n",
       "    .dataframe tbody tr th:only-of-type {\n",
       "        vertical-align: middle;\n",
       "    }\n",
       "\n",
       "    .dataframe tbody tr th {\n",
       "        vertical-align: top;\n",
       "    }\n",
       "\n",
       "    .dataframe thead th {\n",
       "        text-align: right;\n",
       "    }\n",
       "</style>\n",
       "<table border=\"1\" class=\"dataframe\">\n",
       "  <thead>\n",
       "    <tr style=\"text-align: right;\">\n",
       "      <th></th>\n",
       "      <th>continentes</th>\n",
       "      <th>nombre_de_aeropuertos</th>\n",
       "    </tr>\n",
       "  </thead>\n",
       "  <tbody>\n",
       "    <tr>\n",
       "      <th>3</th>\n",
       "      <td>Europe</td>\n",
       "      <td>213</td>\n",
       "    </tr>\n",
       "    <tr>\n",
       "      <th>0</th>\n",
       "      <td>Africa</td>\n",
       "      <td>12</td>\n",
       "    </tr>\n",
       "    <tr>\n",
       "      <th>2</th>\n",
       "      <td>Atlantic</td>\n",
       "      <td>8</td>\n",
       "    </tr>\n",
       "    <tr>\n",
       "      <th>1</th>\n",
       "      <td>Asia</td>\n",
       "      <td>4</td>\n",
       "    </tr>\n",
       "  </tbody>\n",
       "</table>\n",
       "</div>"
      ],
      "text/plain": [
       "  continentes  nombre_de_aeropuertos\n",
       "3      Europe                    213\n",
       "0      Africa                     12\n",
       "2    Atlantic                      8\n",
       "1        Asia                      4"
      ]
     },
     "execution_count": 15,
     "metadata": {},
     "output_type": "execute_result"
    }
   ],
   "source": [
    "aeropuertos_continente_df = airports_df.groupby(\"continentes\")[\"nombre_de_aeropuertos\"].count().reset_index()\n",
    "aeropuertos_continente_df.sort_values(by = \"nombre_de_aeropuertos\",ascending=False)"
   ]
  },
  {
   "cell_type": "markdown",
   "id": "a473998e-4f58-4250-887e-ec6a9c5b80ab",
   "metadata": {},
   "source": [
    "### Otra lista con la zona horaria y el numero de aropuertos de cada una y u  ranquing de las 5 primeras"
   ]
  },
  {
   "cell_type": "code",
   "execution_count": 17,
   "id": "28ec2b8f-2e94-42f6-9585-0d3f7686c5da",
   "metadata": {},
   "outputs": [
    {
     "data": {
      "text/html": [
       "<div>\n",
       "<style scoped>\n",
       "    .dataframe tbody tr th:only-of-type {\n",
       "        vertical-align: middle;\n",
       "    }\n",
       "\n",
       "    .dataframe tbody tr th {\n",
       "        vertical-align: top;\n",
       "    }\n",
       "\n",
       "    .dataframe thead th {\n",
       "        text-align: right;\n",
       "    }\n",
       "</style>\n",
       "<table border=\"1\" class=\"dataframe\">\n",
       "  <thead>\n",
       "    <tr style=\"text-align: right;\">\n",
       "      <th></th>\n",
       "      <th>index</th>\n",
       "      <th>zona_horaria</th>\n",
       "      <th>nombre_de_aeropuertos</th>\n",
       "    </tr>\n",
       "  </thead>\n",
       "  <tbody>\n",
       "    <tr>\n",
       "      <th>0</th>\n",
       "      <td>30</td>\n",
       "      <td>Europe/Rome</td>\n",
       "      <td>32</td>\n",
       "    </tr>\n",
       "    <tr>\n",
       "      <th>1</th>\n",
       "      <td>26</td>\n",
       "      <td>Europe/Paris</td>\n",
       "      <td>27</td>\n",
       "    </tr>\n",
       "    <tr>\n",
       "      <th>2</th>\n",
       "      <td>21</td>\n",
       "      <td>Europe/London</td>\n",
       "      <td>22</td>\n",
       "    </tr>\n",
       "    <tr>\n",
       "      <th>3</th>\n",
       "      <td>23</td>\n",
       "      <td>Europe/Madrid</td>\n",
       "      <td>22</td>\n",
       "    </tr>\n",
       "    <tr>\n",
       "      <th>4</th>\n",
       "      <td>9</td>\n",
       "      <td>Europe/Athens</td>\n",
       "      <td>14</td>\n",
       "    </tr>\n",
       "  </tbody>\n",
       "</table>\n",
       "</div>"
      ],
      "text/plain": [
       "   index   zona_horaria  nombre_de_aeropuertos\n",
       "0     30    Europe/Rome                     32\n",
       "1     26   Europe/Paris                     27\n",
       "2     21  Europe/London                     22\n",
       "3     23  Europe/Madrid                     22\n",
       "4      9  Europe/Athens                     14"
      ]
     },
     "execution_count": 17,
     "metadata": {},
     "output_type": "execute_result"
    }
   ],
   "source": [
    "aeropuertos_zona_h_df = airports_df.groupby(\"zona_horaria\")[\"nombre_de_aeropuertos\"].count().reset_index()\n",
    "top_5_zonas_horarias = aeropuertos_zona_h_df.sort_values(by=\"nombre_de_aeropuertos\", ascending=False).head(5).reset_index()\n",
    "top_5_zonas_horarias"
   ]
  },
  {
   "cell_type": "markdown",
   "id": "7d8f543c-8cb6-44ec-8e64-c9f2aa7d91a9",
   "metadata": {},
   "source": [
    "### Una tabla con paises, ciudades y nombres de aeropuertos"
   ]
  },
  {
   "cell_type": "code",
   "execution_count": 19,
   "id": "3fb7e326-98e2-42a1-b9f1-35c2ef7f2dc9",
   "metadata": {},
   "outputs": [
    {
     "data": {
      "text/html": [
       "<div>\n",
       "<style scoped>\n",
       "    .dataframe tbody tr th:only-of-type {\n",
       "        vertical-align: middle;\n",
       "    }\n",
       "\n",
       "    .dataframe tbody tr th {\n",
       "        vertical-align: top;\n",
       "    }\n",
       "\n",
       "    .dataframe thead th {\n",
       "        text-align: right;\n",
       "    }\n",
       "</style>\n",
       "<table border=\"1\" class=\"dataframe\">\n",
       "  <thead>\n",
       "    <tr style=\"text-align: right;\">\n",
       "      <th></th>\n",
       "      <th>paises</th>\n",
       "      <th>ciudades</th>\n",
       "      <th>nombre_de_aeropuertos</th>\n",
       "    </tr>\n",
       "  </thead>\n",
       "  <tbody>\n",
       "    <tr>\n",
       "      <th>0</th>\n",
       "      <td>Denmark</td>\n",
       "      <td>Aalborg</td>\n",
       "      <td>Aalborg</td>\n",
       "    </tr>\n",
       "    <tr>\n",
       "      <th>1</th>\n",
       "      <td>Denmark</td>\n",
       "      <td>Aarhus</td>\n",
       "      <td>Aarhus</td>\n",
       "    </tr>\n",
       "    <tr>\n",
       "      <th>2</th>\n",
       "      <td>United Kingdom</td>\n",
       "      <td>Aberdeen</td>\n",
       "      <td>Aberdeen</td>\n",
       "    </tr>\n",
       "    <tr>\n",
       "      <th>3</th>\n",
       "      <td>Spain</td>\n",
       "      <td>Lanzarote</td>\n",
       "      <td>Lanzarote</td>\n",
       "    </tr>\n",
       "    <tr>\n",
       "      <th>4</th>\n",
       "      <td>Morocco</td>\n",
       "      <td>Agadir</td>\n",
       "      <td>Agadir</td>\n",
       "    </tr>\n",
       "    <tr>\n",
       "      <th>...</th>\n",
       "      <td>...</td>\n",
       "      <td>...</td>\n",
       "      <td>...</td>\n",
       "    </tr>\n",
       "    <tr>\n",
       "      <th>232</th>\n",
       "      <td>Spain</td>\n",
       "      <td>Jerez</td>\n",
       "      <td>Jerez</td>\n",
       "    </tr>\n",
       "    <tr>\n",
       "      <th>233</th>\n",
       "      <td>Croatia</td>\n",
       "      <td>Zadar</td>\n",
       "      <td>Zadar</td>\n",
       "    </tr>\n",
       "    <tr>\n",
       "      <th>234</th>\n",
       "      <td>Croatia</td>\n",
       "      <td>Zagreb</td>\n",
       "      <td>Zagreb</td>\n",
       "    </tr>\n",
       "    <tr>\n",
       "      <th>235</th>\n",
       "      <td>Spain</td>\n",
       "      <td>Zaragoza</td>\n",
       "      <td>Zaragoza</td>\n",
       "    </tr>\n",
       "    <tr>\n",
       "      <th>236</th>\n",
       "      <td>Greece</td>\n",
       "      <td>Zakynthos</td>\n",
       "      <td>Zakynthos</td>\n",
       "    </tr>\n",
       "  </tbody>\n",
       "</table>\n",
       "<p>237 rows × 3 columns</p>\n",
       "</div>"
      ],
      "text/plain": [
       "             paises   ciudades nombre_de_aeropuertos\n",
       "0           Denmark    Aalborg               Aalborg\n",
       "1           Denmark     Aarhus                Aarhus\n",
       "2    United Kingdom   Aberdeen              Aberdeen\n",
       "3             Spain  Lanzarote             Lanzarote\n",
       "4           Morocco     Agadir                Agadir\n",
       "..              ...        ...                   ...\n",
       "232           Spain      Jerez                 Jerez\n",
       "233         Croatia      Zadar                 Zadar\n",
       "234         Croatia     Zagreb                Zagreb\n",
       "235           Spain   Zaragoza              Zaragoza\n",
       "236          Greece  Zakynthos             Zakynthos\n",
       "\n",
       "[237 rows x 3 columns]"
      ]
     },
     "execution_count": 19,
     "metadata": {},
     "output_type": "execute_result"
    }
   ],
   "source": [
    "aeropuertos_zona_h_df = airports_df[[\"paises\",\"ciudades\",\"nombre_de_aeropuertos\"]]\n",
    "aeropuertos_zona_h_df"
   ]
  },
  {
   "cell_type": "markdown",
   "id": "a1fec047-6069-4995-a041-3e156e31d132",
   "metadata": {},
   "source": [
    "### Hacemos un grafico con los paises y el numero de aeropuertos y otro de continentes y el numero de aeropuertos de cada uno"
   ]
  },
  {
   "cell_type": "code",
   "execution_count": 21,
   "id": "46a039a8-d6f8-4f45-ac8a-b79414d3bd6d",
   "metadata": {},
   "outputs": [],
   "source": [
    "import matplotlib.pyplot as plt"
   ]
  },
  {
   "cell_type": "code",
   "execution_count": 22,
   "id": "7fea8e96-06f9-4f11-92a0-f4aecc97b26a",
   "metadata": {},
   "outputs": [
    {
     "data": {
      "image/png": "[encoded data removed]",
      "text/plain": [
       "<Figure size 1000x600 with 1 Axes>"
      ]
     },
     "metadata": {},
     "output_type": "display_data"
    }
   ],
   "source": [
    "aeropuertos_por_pais = airports_df[\"paises\"].value_counts()\n",
    "\n",
    "plt.figure(figsize=(10, 6))\n",
    "aeropuertos_por_pais.plot(kind=\"bar\", color=\"orange\")\n",
    "plt.title(\"Número de Aeropuertos por País\")\n",
    "plt.xlabel(\"País\")\n",
    "plt.ylabel(\"Número de Aeropuertos\")\n",
    "plt.xticks(rotation= -50, ha=\"left\")\n",
    "plt.show()"
   ]
  },
  {
   "cell_type": "code",
   "execution_count": 23,
   "id": "e1d83f8d-2755-4703-bc05-4e6d0cf96e30",
   "metadata": {},
   "outputs": [
    {
     "data": {
      "image/png": "[encoded data removed]",
      "text/plain": [
       "<Figure size 1000x600 with 1 Axes>"
      ]
     },
     "metadata": {},
     "output_type": "display_data"
    }
   ],
   "source": [
    "aeropuertos_por_continente = airports_df[\"continentes\"].value_counts()\n",
    "\n",
    "plt.figure(figsize=(10, 6))\n",
    "aeropuertos_por_continente.plot(kind=\"bar\", color=\"lawngreen\")\n",
    "plt.title(\"Número de Aeropuertos por Continente\")\n",
    "plt.xlabel(\"Continente\")\n",
    "plt.ylabel(\"Número de Aeropuertos\")\n",
    "plt.xticks(rotation= -50, ha=\"left\")\n",
    "plt.show()"
   ]
  },
  {
   "cell_type": "code",
   "execution_count": null,
   "id": "402d0f36-36dd-42a6-8bb6-232e9743ee40",
   "metadata": {},
   "outputs": [],
   "source": []
  },
  {
   "cell_type": "code",
   "execution_count": null,
   "id": "cb1cf450-57b7-4310-9860-808f18c9f113",
   "metadata": {},
   "outputs": [],
   "source": []
  }
 ],
 "metadata": {
  "kernelspec": {
   "display_name": "Python 3 (ipykernel)",
   "language": "python",
   "name": "python3"
  },
  "language_info": {
   "codemirror_mode": {
    "name": "ipython",
    "version": 3
   },
   "file_extension": ".py",
   "mimetype": "text/x-python",
   "name": "python",
   "nbconvert_exporter": "python",
   "pygments_lexer": "ipython3",
   "version": "3.12.4"
  }
 },
 "nbformat": 4,
 "nbformat_minor": 5
}
